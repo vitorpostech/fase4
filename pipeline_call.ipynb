{
 "cells": [
  {
   "cell_type": "code",
   "execution_count": null,
   "metadata": {},
   "outputs": [],
   "source": [
    "import requests"
   ]
  },
  {
   "cell_type": "code",
   "execution_count": null,
   "metadata": {},
   "outputs": [],
   "source": [
    "# URL do endpoint da API\n",
    "url = \"http://127.0.0.1:5000/train\"  # Ajuste a porta conforme a configuração do Flask\n",
    "try:\n",
    "    # Realiza a requisição GET\n",
    "    response = requests.get(url)\n",
    "    # Verifica se a requisição foi bem-sucedida\n",
    "    if response.status_code == 200:\n",
    "        # Exibe o conteúdo retornado pela API\n",
    "        print(\"Resposta da API:\", response.json())\n",
    "    else:\n",
    "        print(f\"Erro ao acessar a API. Status Code: {response.status_code}\")\n",
    "        print(\"Detalhes:\", response.text)\n",
    "except requests.exceptions.RequestException as e:\n",
    "    print(f\"Erro ao conectar com a API: {e}\")"
   ]
  },
  {
   "cell_type": "code",
   "execution_count": null,
   "metadata": {},
   "outputs": [],
   "source": [
    "# URL do endpoint da API\n",
    "url = \"http://127.0.0.1:5000/predict\"  # Ajuste a porta conforme a configuração do Flask\n",
    "try:\n",
    "    # Realiza a requisição GET\n",
    "    response = requests.get(url)\n",
    "    # Verifica se a requisição foi bem-sucedida\n",
    "    if response.status_code == 200:\n",
    "        # Exibe o conteúdo retornado pela API\n",
    "        print(\"Resposta da API:\", response.json())\n",
    "    else:\n",
    "        print(f\"Erro ao acessar a API. Status Code: {response.status_code}\")\n",
    "        print(\"Detalhes:\", response.text)\n",
    "except requests.exceptions.RequestException as e:\n",
    "    print(f\"Erro ao conectar com a API: {e}\")"
   ]
  }
 ],
 "metadata": {
  "kernelspec": {
   "display_name": "fase4",
   "language": "python",
   "name": "python3"
  },
  "language_info": {
   "codemirror_mode": {
    "name": "ipython",
    "version": 3
   },
   "file_extension": ".py",
   "mimetype": "text/x-python",
   "name": "python",
   "nbconvert_exporter": "python",
   "pygments_lexer": "ipython3",
   "version": "3.10.15"
  }
 },
 "nbformat": 4,
 "nbformat_minor": 2
}
